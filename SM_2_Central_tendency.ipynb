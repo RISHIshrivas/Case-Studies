{
  "nbformat": 4,
  "nbformat_minor": 0,
  "metadata": {
    "colab": {
      "provenance": [],
      "authorship_tag": "ABX9TyMq65srd744uKdjlXQ8XOWV",
      "include_colab_link": true
    },
    "kernelspec": {
      "name": "python3",
      "display_name": "Python 3"
    },
    "language_info": {
      "name": "python"
    }
  },
  "cells": [
    {
      "cell_type": "markdown",
      "metadata": {
        "id": "view-in-github",
        "colab_type": "text"
      },
      "source": [
        "<a href=\"https://colab.research.google.com/github/RISHIshrivas/Statistical-Methods_Case-Studies/blob/main/SM_2_Central_tendency.ipynb\" target=\"_parent\"><img src=\"https://colab.research.google.com/assets/colab-badge.svg\" alt=\"Open In Colab\"/></a>"
      ]
    },
    {
      "cell_type": "code",
      "execution_count": null,
      "metadata": {
        "colab": {
          "base_uri": "https://localhost:8080/"
        },
        "id": "V1ewZ6IIqFsT",
        "outputId": "6cd29265-ba3d-413f-d268-431453e069b9"
      },
      "outputs": [
        {
          "output_type": "stream",
          "name": "stdout",
          "text": [
            "MEAN\n",
            "29.666666666666668\n",
            "\n",
            "\n",
            "MODE\n",
            "2 frequency -> 1\n",
            "4 frequency -> 1\n",
            "6 frequency -> 1\n",
            "8 frequency -> 1\n",
            "11 frequency -> 1\n",
            "23 frequency -> 1\n",
            "45 frequency -> 1\n",
            "78 frequency -> 1\n",
            "90 frequency -> 1\n",
            "\n",
            "\n",
            "MEDIAN\n",
            "median for odd number of elements:  11\n",
            "\n",
            "\n",
            "MEAN DEVIATION\n",
            "Variance:  1433.5555555555557\n",
            "Std Deviation:  37.86232369461172\n",
            "\n",
            "\n"
          ]
        }
      ],
      "source": [
        "# Question 1 mean, median, mode, variance and std dev only\n",
        "x1 = [2,4,6,8,11,23,45,78,90]\n",
        "mean1 = 0\n",
        "x = sorted(x1)\n",
        "\n",
        "def mean(lst):\n",
        "  mean = sum(lst)/len(x)\n",
        "  print(mean)\n",
        "print('MEAN')\n",
        "mean(x)\n",
        "print('\\n')\n",
        "\n",
        "def mode(lst):\n",
        "  for i in lst:\n",
        "    print(i, 'frequency ->', lst.count(i))\n",
        "\n",
        "print('MODE')\n",
        "mode(x)\n",
        "print('\\n')\n",
        "\n",
        "def median(x):\n",
        "  if len(x)%2 == 0:\n",
        "    p1 = x[round(len(x)/2)-1]\n",
        "    p2 = x[round((len(x)/2))]\n",
        "    print('median for even number of elements: ',p1,' ',p2)\n",
        "  else:\n",
        "    p3 = x[round(len(x)/2)]\n",
        "    print('median for odd number of elements: ',p3)\n",
        "\n",
        "print('MEDIAN')\n",
        "median(x)\n",
        "print('\\n')\n",
        "\n",
        "def dev(lst):\n",
        "  t = []\n",
        "  for i in lst:\n",
        "    t.append((i-9)**2)\n",
        "  print('Variance: ',sum(t)/len(t))\n",
        "  print('Std Deviation: ', (sum(t)/len(t))**0.5)\n",
        "print('MEAN DEVIATION')\n",
        "dev(x)\n",
        "print('\\n')"
      ]
    },
    {
      "cell_type": "code",
      "source": [
        "# Question 2 mean, median, mode, variance and std dev only\n",
        "x = []\n",
        "mean1 = 0\n",
        "\n",
        "for i in range(1,11):\n",
        "  x.append(3*i)\n",
        "print(x)\n",
        "\n",
        "def mean(lst):\n",
        "  mean = sum(lst)/len(x)\n",
        "  print(mean)\n",
        "  mean1 = mean\n",
        "\n",
        "print('MEAN')\n",
        "mean(x)\n",
        "print('\\n')\n",
        "\n",
        "def mode(lst):\n",
        "  for i in lst:\n",
        "    print(i, 'frequency ->', lst.count(i))\n",
        "\n",
        "print('MODE')\n",
        "mode(x)\n",
        "print('\\n')\n",
        "\n",
        "def median(x):\n",
        "  if len(x)%2 == 0:\n",
        "    p1 = x[round(len(x)/2)-1]\n",
        "    p2 = x[round((len(x)/2))]\n",
        "    print('median for even number of elements: ',p1,' ',p2)\n",
        "  else:\n",
        "    p3 = x[round(len(x)/2)]\n",
        "    print('median for odd number of elements: ',p3)\n",
        "\n",
        "print('MEDIAN')\n",
        "median(x)\n",
        "print('\\n')\n",
        "\n",
        "def dev(lst):\n",
        "  t = []\n",
        "  for i in lst:\n",
        "    t.append((i-16.5)**2)\n",
        "  print('Variance: ',sum(t)/len(t))\n",
        "  print('Std Deviation: ', (sum(t)/len(t))**0.5)\n",
        "print('MEAN DEVIATION')\n",
        "dev(x)\n",
        "print('\\n')\n"
      ],
      "metadata": {
        "colab": {
          "base_uri": "https://localhost:8080/"
        },
        "id": "WYAOe4tVqVGz",
        "outputId": "73b2afa1-f586-4efa-e528-f48ca1ba07a6"
      },
      "execution_count": null,
      "outputs": [
        {
          "output_type": "stream",
          "name": "stdout",
          "text": [
            "[3, 6, 9, 12, 15, 18, 21, 24, 27, 30]\n",
            "MEAN\n",
            "16.5\n",
            "\n",
            "\n",
            "MODE\n",
            "3 frequency -> 1\n",
            "6 frequency -> 1\n",
            "9 frequency -> 1\n",
            "12 frequency -> 1\n",
            "15 frequency -> 1\n",
            "18 frequency -> 1\n",
            "21 frequency -> 1\n",
            "24 frequency -> 1\n",
            "27 frequency -> 1\n",
            "30 frequency -> 1\n",
            "\n",
            "\n",
            "MEDIAN\n",
            "median for even number of elements:  15   18\n",
            "\n",
            "\n",
            "MEAN DEVIATION\n",
            "Variance:  74.25\n",
            "Std Deviation:  8.616843969807043\n",
            "\n",
            "\n"
          ]
        }
      ]
    },
    {
      "cell_type": "code",
      "source": [
        "# Question 3 mean, median, mode, variance and std dev only\n",
        "\n",
        "x1 = [4,7,8,9,10,12,13,17]\n",
        "x = sorted(x1)\n",
        "mean1 = 0\n",
        "\n",
        "def mean(lst):\n",
        "  mean = sum(lst)/len(x)\n",
        "  print(mean)\n",
        "  mean1 = mean\n",
        "\n",
        "print('MEAN')\n",
        "mean(x)\n",
        "print('\\n')\n",
        "\n",
        "def mode(lst):\n",
        "  for i in lst:\n",
        "    print(i, 'frequency ->', lst.count(i))\n",
        "\n",
        "print('MODE')\n",
        "mode(x)\n",
        "print('\\n')\n",
        "\n",
        "def median(x):\n",
        "  if len(x)%2 == 0:\n",
        "    p1 = x[round(len(x)/2)-1]\n",
        "    p2 = x[round((len(x)/2))]\n",
        "    print('median for even number of elements: ',p1,' ',p2)\n",
        "  else:\n",
        "    p3 = x[round(len(x)/2)]\n",
        "    print('median for odd number of elements: ',p3)\n",
        "\n",
        "print('MEDIAN')\n",
        "median(x)\n",
        "print('\\n')\n",
        "\n",
        "def dev(lst):\n",
        "  t = []\n",
        "  for i in lst:\n",
        "    t.append((i-10)**2)\n",
        "  print('Variance: ',sum(t)/len(t))\n",
        "  print('Std Deviation: ', (sum(t)/len(t))**0.5)\n",
        "print('MEAN DEVIATION')\n",
        "dev(x)\n",
        "print('\\n')"
      ],
      "metadata": {
        "colab": {
          "base_uri": "https://localhost:8080/"
        },
        "id": "a6qYDaxJqf4t",
        "outputId": "92b17286-148f-4569-fcae-cbe457b5d070"
      },
      "execution_count": null,
      "outputs": [
        {
          "output_type": "stream",
          "name": "stdout",
          "text": [
            "MEAN\n",
            "10.0\n",
            "\n",
            "\n",
            "MODE\n",
            "4 frequency -> 1\n",
            "7 frequency -> 1\n",
            "8 frequency -> 1\n",
            "9 frequency -> 1\n",
            "10 frequency -> 1\n",
            "12 frequency -> 1\n",
            "13 frequency -> 1\n",
            "17 frequency -> 1\n",
            "\n",
            "\n",
            "MEDIAN\n",
            "median for even number of elements:  9   10\n",
            "\n",
            "\n",
            "MEAN DEVIATION\n",
            "Variance:  14.0\n",
            "Std Deviation:  3.7416573867739413\n",
            "\n",
            "\n"
          ]
        }
      ]
    },
    {
      "cell_type": "code",
      "source": [
        "# Question 4 mean, median, mode, variance and std dev only\n",
        "\n",
        "x1 = [38,70,48,40,42,55,63,46,54,44]\n",
        "x = sorted(x1)\n",
        "mean1 = 0\n",
        "\n",
        "def mean(lst):\n",
        "  mean = sum(lst)/len(x)\n",
        "  print(mean)\n",
        "  mean1 = mean\n",
        "\n",
        "print('MEAN')\n",
        "mean(x)\n",
        "print('\\n')\n",
        "\n",
        "def mode(lst):\n",
        "  for i in lst:\n",
        "    print(i, 'frequency ->', lst.count(i))\n",
        "\n",
        "print('MODE')\n",
        "mode(x)\n",
        "print('\\n')\n",
        "\n",
        "def median(x):\n",
        "  if len(x)%2 == 0:\n",
        "    p1 = x[round(len(x)/2)-1]\n",
        "    p2 = x[round((len(x)/2))]\n",
        "    print('median for even number of elements: ',p1,' ',p2)\n",
        "  else:\n",
        "    p3 = x[round(len(x)/2)]\n",
        "    print('median for odd number of elements: ',p3)\n",
        "\n",
        "print('MEDIAN')\n",
        "median(x)\n",
        "print('\\n')\n",
        "\n",
        "def dev(lst):\n",
        "  t = []\n",
        "  for i in lst:\n",
        "    t.append((i-50)**2)\n",
        "  print('Variance: ',sum(t)/len(t))\n",
        "  print('Std Deviation: ', (sum(t)/len(t))**0.5)\n",
        "print('MEAN DEVIATION')\n",
        "dev(x)\n",
        "print('\\n')"
      ],
      "metadata": {
        "colab": {
          "base_uri": "https://localhost:8080/"
        },
        "id": "_x5Z9EB6qgZ-",
        "outputId": "e858ae98-b895-4aa2-bd55-e7cb0559ab4f"
      },
      "execution_count": null,
      "outputs": [
        {
          "output_type": "stream",
          "name": "stdout",
          "text": [
            "MEAN\n",
            "50.0\n",
            "\n",
            "\n",
            "MODE\n",
            "38 frequency -> 1\n",
            "40 frequency -> 1\n",
            "42 frequency -> 1\n",
            "44 frequency -> 1\n",
            "46 frequency -> 1\n",
            "48 frequency -> 1\n",
            "54 frequency -> 1\n",
            "55 frequency -> 1\n",
            "63 frequency -> 1\n",
            "70 frequency -> 1\n",
            "\n",
            "\n",
            "MEDIAN\n",
            "median for even number of elements:  46   48\n",
            "\n",
            "\n",
            "MEAN DEVIATION\n",
            "Variance:  97.4\n",
            "Std Deviation:  9.869143833180262\n",
            "\n",
            "\n"
          ]
        }
      ]
    },
    {
      "cell_type": "code",
      "source": [
        "import pandas as pd\n",
        "import numpy as np\n",
        "\n",
        "x1 = [38,70,48,40,42,55,63,46,54,44]\n",
        "data = pd.DataFrame(x1)\n",
        "print(data)\n",
        "print(np.mean(data))\n",
        "print(np.median(data))"
      ],
      "metadata": {
        "id": "bYunt42kqlwo"
      },
      "execution_count": null,
      "outputs": []
    },
    {
      "cell_type": "code",
      "source": [],
      "metadata": {
        "id": "ARDepcumq9yG"
      },
      "execution_count": null,
      "outputs": []
    }
  ]
}